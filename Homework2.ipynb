{
 "cells": [
  {
   "cell_type": "markdown",
   "id": "ad3f571c-27c3-4648-9fae-089995051c77",
   "metadata": {},
   "source": [
    "## Homework2"
   ]
  },
  {
   "cell_type": "markdown",
   "id": "e8761daa-0125-4309-bb45-cefddfd8f9ee",
   "metadata": {},
   "source": [
    "#### 10235501405 李佳慜"
   ]
  },
  {
   "cell_type": "markdown",
   "id": "25aa41fa-2dce-4420-b20f-88fd8c1fc4f1",
   "metadata": {},
   "source": [
    "1."
   ]
  },
  {
   "cell_type": "code",
   "execution_count": 6,
   "id": "0004a9b6-0c04-48b9-8d0f-cbb2fbe47b9d",
   "metadata": {},
   "outputs": [
    {
     "name": "stdin",
     "output_type": "stream",
     "text": [
      " 18\n",
      " 24\n"
     ]
    },
    {
     "name": "stdout",
     "output_type": "stream",
     "text": [
      "6\n"
     ]
    }
   ],
   "source": [
    "x=int(input())\n",
    "y=int(input())\n",
    "i=1\n",
    "while i!=0:\n",
    "    i=x%y\n",
    "    x=y\n",
    "    y=i\n",
    "print(x)"
   ]
  },
  {
   "cell_type": "markdown",
   "id": "d278aa22-ea12-434f-b9d9-56b351930141",
   "metadata": {},
   "source": [
    "2."
   ]
  },
  {
   "cell_type": "code",
   "execution_count": 14,
   "id": "c18e9b56-533a-46e8-a787-3fc4ac12be5d",
   "metadata": {},
   "outputs": [
    {
     "name": "stdin",
     "output_type": "stream",
     "text": [
      " 74\n"
     ]
    },
    {
     "name": "stdout",
     "output_type": "stream",
     "text": [
      "合格\n"
     ]
    }
   ],
   "source": [
    "x=int(input())\n",
    "if x<60:\n",
    "    print(\"不合格\")\n",
    "elif x<75:\n",
    "    print(\"合格\")\n",
    "elif x<90:\n",
    "    print(\"良好\")\n",
    "else:\n",
    "    print(\"优秀\")"
   ]
  },
  {
   "cell_type": "markdown",
   "id": "3ecd4f76-c27d-48c8-9d70-7f5d3313035f",
   "metadata": {},
   "source": [
    "3."
   ]
  },
  {
   "cell_type": "code",
   "execution_count": 47,
   "id": "111893a7-9130-46bf-842a-08e7d9cd2252",
   "metadata": {},
   "outputs": [
    {
     "name": "stdin",
     "output_type": "stream",
     "text": [
      " 2.5\n"
     ]
    },
    {
     "name": "stdout",
     "output_type": "stream",
     "text": [
      "10.1\n"
     ]
    }
   ],
   "source": [
    "x=float(input())\n",
    "a=int(x)\n",
    "b=x-a\n",
    "zheng=''\n",
    "xiao=''\n",
    "while a!=0:\n",
    "    if a%2==0:\n",
    "        zheng+='0'\n",
    "    else:\n",
    "        zheng+='1'\n",
    "    a//=2\n",
    "while b!=0:\n",
    "    b*=2\n",
    "    if int(b)==0:\n",
    "        xiao+='0'\n",
    "    else:\n",
    "        xiao+='1'\n",
    "    b=b-int(b)\n",
    "ans=zheng[::-1]+'.'+xiao if zheng else '0.'+xiao\n",
    "print(ans)"
   ]
  },
  {
   "cell_type": "markdown",
   "id": "24ef914b-9a28-463b-9351-4a401cec776c",
   "metadata": {},
   "source": [
    "4."
   ]
  },
  {
   "cell_type": "code",
   "execution_count": 48,
   "id": "3659dfa2-3d3e-45f1-9e84-29756b3ee603",
   "metadata": {},
   "outputs": [
    {
     "name": "stdout",
     "output_type": "stream",
     "text": [
      "13.509778530753703\n"
     ]
    }
   ],
   "source": [
    "import random\n",
    "a=random.uniform(10,20)\n",
    "print(a)"
   ]
  },
  {
   "cell_type": "markdown",
   "id": "9f5597ec-1c93-4fa4-8f81-1455f7656bdc",
   "metadata": {},
   "source": [
    "5."
   ]
  },
  {
   "cell_type": "code",
   "execution_count": 74,
   "id": "057cc99f-1e49-4a3c-84af-03afb83630bc",
   "metadata": {},
   "outputs": [
    {
     "name": "stdin",
     "output_type": "stream",
     "text": [
      " 12321\n"
     ]
    },
    {
     "name": "stdout",
     "output_type": "stream",
     "text": [
      "是回文数\n"
     ]
    }
   ],
   "source": [
    "def huiwen(x):\n",
    "    if x[::-1]==x:\n",
    "        print(\"是回文数\")\n",
    "    else:\n",
    "        print(\"不是回文数\")\n",
    "#测试输入\n",
    "x=input()\n",
    "huiwen(x)"
   ]
  },
  {
   "cell_type": "markdown",
   "id": "c6ada2de-2f57-4868-99d0-4b550ae1843c",
   "metadata": {},
   "source": [
    "6."
   ]
  },
  {
   "cell_type": "code",
   "execution_count": 3,
   "id": "72635301-ea2c-4095-a281-aaf3719f28ad",
   "metadata": {},
   "outputs": [
    {
     "name": "stdin",
     "output_type": "stream",
     "text": [
      " 7\n"
     ]
    },
    {
     "name": "stdout",
     "output_type": "stream",
     "text": [
      "[0, 1, 1, 2, 3, 5, 8]\n"
     ]
    }
   ],
   "source": [
    "def feibo(n):\n",
    "    fei=[0,1]\n",
    "    x=[0]\n",
    "    y=[]\n",
    "    for i in range(1,n-1):\n",
    "        a=fei[-1]+fei[-2]\n",
    "        fei.append(a)\n",
    "    if n==1:\n",
    "        return x\n",
    "    elif n==0:\n",
    "        return y\n",
    "    else:\n",
    "        return fei\n",
    "#测试输入\n",
    "n=int(input())\n",
    "print(feibo(n))"
   ]
  },
  {
   "cell_type": "markdown",
   "id": "76cef4ed-35ae-4887-80de-eb78f632b3d6",
   "metadata": {},
   "source": [
    "7."
   ]
  },
  {
   "cell_type": "code",
   "execution_count": 69,
   "id": "779a5106-3530-465d-bb2a-9c97b4bcaa59",
   "metadata": {},
   "outputs": [
    {
     "name": "stdout",
     "output_type": "stream",
     "text": [
      "4\n",
      "-1\n",
      "-1\n"
     ]
    }
   ],
   "source": [
    "def max2(x):\n",
    "    max=float('-inf')\n",
    "    max_2=float('-inf')\n",
    "    for i in x:\n",
    "        if i>max:\n",
    "            max_2=max\n",
    "            max=i\n",
    "    if len(x)<2:\n",
    "        return -1\n",
    "    else:\n",
    "        return max_2\n",
    "#测试数据\n",
    "x= input() \n",
    "integer_list = list(map(int,x.split()))\n",
    "print(\"输入的整数数组是:\", integer_list)"
   ]
  },
  {
   "cell_type": "markdown",
   "id": "c8115362-aa7d-4d1f-8098-ef07ae699af8",
   "metadata": {},
   "source": [
    "8."
   ]
  },
  {
   "cell_type": "code",
   "execution_count": 80,
   "id": "e77ebdc1-e705-41bc-9b13-e2b04e16fe04",
   "metadata": {},
   "outputs": [
    {
     "name": "stdin",
     "output_type": "stream",
     "text": [
      " 11010519491231002X\n"
     ]
    },
    {
     "name": "stdout",
     "output_type": "stream",
     "text": [
      "True\n"
     ]
    }
   ],
   "source": [
    "import re\n",
    "def validate_id_card(x):\n",
    "    ans=r'^[1-9]\\d{5}(18|19|20)\\d{2}(0[1-9]|1[0-2])(0[1-9]|[12]\\d|3[01])\\d{3}[\\dXx]$'\n",
    "    return bool(re.match(ans, x))\n",
    "#测试输入\n",
    "x=input()\n",
    "print(validate_id_card(x))"
   ]
  },
  {
   "cell_type": "code",
   "execution_count": null,
   "id": "77a5661d-0b40-4db6-b0ad-0b855fd1c63b",
   "metadata": {},
   "outputs": [],
   "source": []
  }
 ],
 "metadata": {
  "kernelspec": {
   "display_name": "Python 3 (ipykernel)",
   "language": "python",
   "name": "python3"
  },
  "language_info": {
   "codemirror_mode": {
    "name": "ipython",
    "version": 3
   },
   "file_extension": ".py",
   "mimetype": "text/x-python",
   "name": "python",
   "nbconvert_exporter": "python",
   "pygments_lexer": "ipython3",
   "version": "3.11.7"
  }
 },
 "nbformat": 4,
 "nbformat_minor": 5
}
