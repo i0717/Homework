{
 "cells": [
  {
   "cell_type": "markdown",
   "id": "cf54488f-6259-4142-ab59-e2ebf92bf5db",
   "metadata": {},
   "source": [
    "## Homework 3"
   ]
  },
  {
   "cell_type": "markdown",
   "id": "bd580e3f-59ec-4826-ad40-e319a66ff6f0",
   "metadata": {},
   "source": [
    "#### 10235501405 李佳慜"
   ]
  },
  {
   "cell_type": "markdown",
   "id": "0cd983c2-7298-414f-90ae-7fc7bc00d594",
   "metadata": {},
   "source": [
    "1."
   ]
  },
  {
   "cell_type": "code",
   "execution_count": 12,
   "id": "0c5dcd7b-02ac-4b9a-9400-8a709ad838e9",
   "metadata": {},
   "outputs": [
    {
     "name": "stdin",
     "output_type": "stream",
     "text": [
      " 17\n"
     ]
    },
    {
     "name": "stdout",
     "output_type": "stream",
     "text": [
      "Yes\n"
     ]
    }
   ],
   "source": [
    "def zhi(a):\n",
    "    if a<2:\n",
    "        return 0\n",
    "    elif a==2 or a==3:\n",
    "        return 1\n",
    "    else:\n",
    "        for i in range(2,int(a**0.5)+1):\n",
    "            if a%i==0:\n",
    "                return 0\n",
    "    return 1\n",
    "\n",
    "a=int(input())\n",
    "b=zhi(a)\n",
    "if b==0:\n",
    "    print(\"No\")\n",
    "else:\n",
    "    print(\"Yes\")"
   ]
  },
  {
   "cell_type": "markdown",
   "id": "bbf43a7d-f0df-46c0-a3c2-a22c5cdef4dd",
   "metadata": {},
   "source": [
    "2."
   ]
  },
  {
   "cell_type": "code",
   "execution_count": 26,
   "id": "032984b8-e6be-48b5-8576-3b0eed799c26",
   "metadata": {},
   "outputs": [
    {
     "name": "stdin",
     "output_type": "stream",
     "text": [
      " 6 7 1 3 2 5 4\n"
     ]
    },
    {
     "name": "stdout",
     "output_type": "stream",
     "text": [
      "[1, 2, 3, 4, 5, 6, 7]\n"
     ]
    }
   ],
   "source": [
    "def insert_sort(x):\n",
    "    s=len(x)\n",
    "    for i in range(1,s):\n",
    "        m=i\n",
    "        p=x[i]\n",
    "        for j in range(0,i):\n",
    "            if x[i]<x[j]:\n",
    "                m=j\n",
    "                break\n",
    "        for k in range(i,m,-1):\n",
    "            x[k]=x[k-1]\n",
    "        x[m]=p\n",
    "    return x\n",
    "    \n",
    "#测试输入\n",
    "x=input() \n",
    "y=list(map(int,x.split()))\n",
    "print(insert_sort(y))"
   ]
  },
  {
   "cell_type": "markdown",
   "id": "7cdf0574-e969-48ce-8a89-d6251850cbc6",
   "metadata": {},
   "source": [
    "3."
   ]
  },
  {
   "cell_type": "code",
   "execution_count": 28,
   "id": "bc42bab7-0002-40b0-8d19-6cd0c7f3c899",
   "metadata": {},
   "outputs": [
    {
     "name": "stdin",
     "output_type": "stream",
     "text": [
      " 10 9 8 7 6 5 4 3 2 1\n"
     ]
    },
    {
     "name": "stdout",
     "output_type": "stream",
     "text": [
      "[1, 2, 3, 4, 5, 6, 7, 8, 9, 10]\n"
     ]
    }
   ],
   "source": [
    "def select_sort(x):\n",
    "    s=len(x)\n",
    "    for i in range(0,s):\n",
    "        min=float('inf')\n",
    "        for j in range (i,s):\n",
    "            if min>x[j]:\n",
    "                min=x[j]\n",
    "                p=j\n",
    "        x[i],x[p]=x[p],x[i]\n",
    "    return x\n",
    "\n",
    "#测试输入\n",
    "x=input() \n",
    "y=list(map(int,x.split()))\n",
    "print(select_sort(y))"
   ]
  },
  {
   "cell_type": "markdown",
   "id": "9bad3528-199b-441f-abc1-6f9d0be089f2",
   "metadata": {},
   "source": [
    "4."
   ]
  },
  {
   "cell_type": "code",
   "execution_count": 33,
   "id": "dc1a59f0-28bc-42b9-a9bf-1d8e73b4bc82",
   "metadata": {},
   "outputs": [
    {
     "name": "stdin",
     "output_type": "stream",
     "text": [
      " 6 7 1 3 2 5 4\n"
     ]
    },
    {
     "name": "stdout",
     "output_type": "stream",
     "text": [
      "[1, 2, 3, 4, 5, 6, 7]\n"
     ]
    }
   ],
   "source": [
    "def quick_sort(x,p,r):\n",
    "    if p>=r:\n",
    "        return\n",
    "    i=p-1\n",
    "    for j in range(p,r):\n",
    "        if x[r]>x[j]:\n",
    "            x[i+1],x[j]=x[j],x[i+1]\n",
    "            i+=1\n",
    "    x[r],x[i+1]=x[i+1],x[r]\n",
    "    quick_sort(x,p,i)\n",
    "    quick_sort(x,i+2,r)\n",
    "\n",
    "#测试输入\n",
    "x=input() \n",
    "y=list(map(int,x.split()))\n",
    "quick_sort(y,0,len(y)-1)\n",
    "print(y)"
   ]
  },
  {
   "cell_type": "markdown",
   "id": "e141ea3e-5b6d-475e-a34a-0d26e0231c47",
   "metadata": {},
   "source": [
    "5."
   ]
  },
  {
   "cell_type": "code",
   "execution_count": 74,
   "id": "33638371-f9d6-4076-a541-8bdb7d6633a4",
   "metadata": {},
   "outputs": [
    {
     "name": "stdout",
     "output_type": "stream",
     "text": [
      "length:100, method:insert sort, time:0.000299 seconds\n",
      "length:1000, method:insert sort, time:0.037644 seconds\n",
      "length:10000, method:insert sort, time:4.434839 seconds\n"
     ]
    }
   ],
   "source": [
    "import random\n",
    "import time\n",
    "def insert_sort(x):\n",
    "    s=len(x)\n",
    "    for i in range(1,s):\n",
    "        m=i\n",
    "        p=x[i]\n",
    "        for j in range(0,i):\n",
    "            if x[i]<x[j]:\n",
    "                m=j\n",
    "                break\n",
    "        for k in range(i,m,-1):\n",
    "            x[k]=x[k-1]\n",
    "        x[m]=p\n",
    "    return x\n",
    "\n",
    "l1=[random.randint(1,10000) for i in range(100)]  \n",
    "l2=[random.randint(1,10000) for i in range(1000)]  \n",
    "l3=[random.randint(1,10000) for i in range(10000)]\n",
    "\n",
    "start_time=time.perf_counter()\n",
    "insert_sort(l1)\n",
    "end_time=time.perf_counter() \n",
    "result=end_time-start_time \n",
    "print(f\"length:100, method:insert sort, time:{result:.6f} seconds\")\n",
    "\n",
    "start_time=time.perf_counter() \n",
    "insert_sort(l2)\n",
    "end_time=time.perf_counter() \n",
    "result=end_time-start_time \n",
    "print(f\"length:1000, method:insert sort, time:{result:.6f} seconds\")\n",
    "\n",
    "start_time=time.perf_counter()  \n",
    "insert_sort(l3)\n",
    "end_time=time.perf_counter()\n",
    "result=end_time-start_time \n",
    "print(f\"length:10000, method:insert sort, time:{result:.6f} seconds\")"
   ]
  },
  {
   "cell_type": "code",
   "execution_count": 75,
   "id": "894e093f-e951-4089-bb3e-c64f8dee45b9",
   "metadata": {},
   "outputs": [
    {
     "name": "stdout",
     "output_type": "stream",
     "text": [
      "length:100, method:select sort, time:0.000252 seconds\n",
      "length:1000, method:select sort, time:0.035007 seconds\n",
      "length:10000, method:select sort, time:3.315253 seconds\n"
     ]
    }
   ],
   "source": [
    "import random\n",
    "import time\n",
    "\n",
    "def select_sort(x):#选择排序\n",
    "    s=len(x)\n",
    "    for i in range(0,s):\n",
    "        min=float('inf')\n",
    "        for j in range (i,s):\n",
    "            if min>x[j]:\n",
    "                min=x[j]\n",
    "                p=j\n",
    "        x[i],x[p]=x[p],x[i]\n",
    "    return x\n",
    "\n",
    "l1=[random.randint(1,10000) for i in range(100)]  \n",
    "l2=[random.randint(1,10000) for i in range(1000)]  \n",
    "l3=[random.randint(1,10000) for i in range(10000)]\n",
    "\n",
    "start_time=time.perf_counter()  \n",
    "select_sort(l1)\n",
    "end_time=time.perf_counter() \n",
    "result=end_time-start_time \n",
    "print(f\"length:100, method:select sort, time:{result:.6f} seconds\")\n",
    "\n",
    "start_time=time.perf_counter()  \n",
    "select_sort(l2)\n",
    "end_time=time.perf_counter()  \n",
    "result=end_time-start_time \n",
    "print(f\"length:1000, method:select sort, time:{result:.6f} seconds\")\n",
    "\n",
    "start_time=time.perf_counter()  \n",
    "select_sort(l3)\n",
    "end_time=time.perf_counter()\n",
    "result=end_time-start_time \n",
    "print(f\"length:10000, method:select sort, time:{result:.6f} seconds\")"
   ]
  },
  {
   "cell_type": "code",
   "execution_count": 76,
   "id": "d4d2d642-e9be-466b-a127-e24e79e2ca06",
   "metadata": {},
   "outputs": [
    {
     "name": "stdout",
     "output_type": "stream",
     "text": [
      "length:100, method:quick sort, time:0.000240 seconds\n",
      "length:1000, method:quick sort, time:0.002244 seconds\n",
      "length:10000, method:quick sort, time:0.038875 seconds\n"
     ]
    }
   ],
   "source": [
    "import random\n",
    "import time\n",
    "\n",
    "def quick_sort(x,p,r):#快速排序\n",
    "    if p<r:\n",
    "        i=p-1\n",
    "        for j in range(p,r):\n",
    "            if x[r]>x[j]:\n",
    "                x[i+1],x[j]=x[j],x[i+1]\n",
    "                i+=1\n",
    "        x[r],x[i+1]=x[i+1],x[r]\n",
    "        quick_sort(x,p,i)\n",
    "        quick_sort(x,i+2,r)\n",
    "    \n",
    "l1=[random.randint(1,10000) for i in range(100)]  \n",
    "l2=[random.randint(1,10000) for i in range(1000)]  \n",
    "l3=[random.randint(1,10000) for i in range(10000)]\n",
    "\n",
    "start_time=time.perf_counter() \n",
    "quick_sort(l1,0,99)\n",
    "end_time=time.perf_counter() \n",
    "result=end_time-start_time \n",
    "print(f\"length:100, method:quick sort, time:{result:.6f} seconds\")\n",
    "\n",
    "start_time=time.perf_counter()\n",
    "quick_sort(l2,0,999)\n",
    "end_time=time.perf_counter()\n",
    "result=end_time-start_time \n",
    "print(f\"length:1000, method:quick sort, time:{result:.6f} seconds\")\n",
    "\n",
    "start_time=time.perf_counter()\n",
    "quick_sort(l3,0,9999)\n",
    "end_time=time.perf_counter()  \n",
    "result=end_time-start_time \n",
    "print(f\"length:10000, method:quick sort, time:{result:.6f} seconds\")"
   ]
  },
  {
   "cell_type": "markdown",
   "id": "e62943e3-1e42-472f-8580-39770bce0d93",
   "metadata": {},
   "source": [
    "对生成的随机数组使用了三种不同的排序算法：插入排序、选择排序和快速排序。    \n",
    "分析以上数据可知，数列元素越多运行时间越长。在100、1000、10000的元素数量下，三种排序算法中快速排序均最快，插入排序均最慢。"
   ]
  },
  {
   "cell_type": "markdown",
   "id": "76ec8dbe-485d-4d41-93f9-ea514fe3374b",
   "metadata": {},
   "source": [
    "6."
   ]
  },
  {
   "cell_type": "code",
   "execution_count": 79,
   "id": "b2ba84af-e90d-4e54-bab9-023c86a9ebce",
   "metadata": {},
   "outputs": [
    {
     "name": "stdout",
     "output_type": "stream",
     "text": [
      "Time: 2024-10-15 21:56:42\n"
     ]
    }
   ],
   "source": [
    "from datetime import datetime   \n",
    "a=datetime.now()    \n",
    "ans=a.strftime(\"%Y-%m-%d %H:%M:%S\")  \n",
    "print(\"Time:\", ans)"
   ]
  },
  {
   "cell_type": "markdown",
   "id": "95c77750-ebf8-486f-a86d-d280c538c0f7",
   "metadata": {},
   "source": [
    "7."
   ]
  },
  {
   "cell_type": "code",
   "execution_count": 84,
   "id": "488bfd1b-d9a5-489f-b207-9a9b6def65d8",
   "metadata": {},
   "outputs": [
    {
     "name": "stdout",
     "output_type": "stream",
     "text": [
      "语文平均成绩: 82.6\n",
      "数学平均成绩: 81.0\n",
      "英语平均成绩: 81.8\n"
     ]
    }
   ],
   "source": [
    "import csv  \n",
    "import os  \n",
    "  \n",
    "file_path=r\"D:\\存东西\\stuGrade.csv\"  \n",
    " \n",
    "chinese_sum=0  \n",
    "math_sum=0  \n",
    "english_sum=0  \n",
    "count=0  \n",
    "  \n",
    "with open(file_path, mode='r', encoding='utf-8') as file:  \n",
    "    csv_reader=csv.DictReader(file) \n",
    "    for row in csv_reader:  \n",
    "        if csv_reader.line_num==1:  \n",
    "            continue  \n",
    "        chinese_sum+=float(row['chinese'])  \n",
    "        math_sum+=float(row['math'])  \n",
    "        english_sum+=float(row['english'])  \n",
    "        count+=1  \n",
    "    \n",
    "chinese_avg=round(chinese_sum/count,2)  \n",
    "math_avg=round(math_sum/count,2)  \n",
    "english_avg=round(english_sum/count,2)  \n",
    "   \n",
    "print(f\"语文平均成绩: {chinese_avg}\")  \n",
    "print(f\"数学平均成绩: {math_avg}\")  \n",
    "print(f\"英语平均成绩: {english_avg}\")"
   ]
  },
  {
   "cell_type": "markdown",
   "id": "525b47e9-9414-4b33-be7e-6824ec8b6c40",
   "metadata": {},
   "source": [
    "8."
   ]
  },
  {
   "cell_type": "code",
   "execution_count": 97,
   "id": "5f09b8b1-09f2-4629-b489-b40339de15c7",
   "metadata": {},
   "outputs": [
    {
     "name": "stdout",
     "output_type": "stream",
     "text": [
      "已写入文件。\n"
     ]
    }
   ],
   "source": [
    "import csv  \n",
    "import os  \n",
    "  \n",
    "file_path=r\"D:\\存东西\\stuGrade.csv\"  \n",
    " \n",
    "chinese_sum=0  \n",
    "math_sum=0  \n",
    "english_sum=0  \n",
    "count=0  \n",
    "  \n",
    "with open(file_path, mode='r', encoding='utf-8') as file:  \n",
    "    csv_reader=csv.DictReader(file) \n",
    "    for row in csv_reader:  \n",
    "        if csv_reader.line_num==1:  \n",
    "            continue  \n",
    "        chinese_sum+=float(row['chinese'])  \n",
    "        math_sum+=float(row['math'])  \n",
    "        english_sum+=float(row['english'])  \n",
    "        count+=1  \n",
    "\n",
    "chinese_avg=\"{:.2f}\".format(chinese_sum/count)  \n",
    "math_avg=\"{:.2f}\".format(math_sum/count)  \n",
    "english_avg=\"{:.2f}\".format(english_sum/count)\n",
    "average_scores=[chinese_avg, math_avg, english_avg]  \n",
    "average_scores_str=','.join(map(str, average_scores))\n",
    "\n",
    "current_time=datetime.now().strftime('%Y-%m-%d %H:%M:%S')  \n",
    "time.sleep(2)  # 等待两秒  \n",
    "future_time=datetime.now().strftime('%Y-%m-%d %H:%M:%S')  \n",
    "  \n",
    "# 假设你的学号和姓名  \n",
    "id='10235501405'  \n",
    "name='李佳慜' \n",
    "content = f\"\"\"学号：{id}   姓名：{name}  \n",
    "3门课程的平均成绩: {average_scores_str} \n",
    "系统当前时间:{current_time}  \n",
    "两秒后的系统当前时间:{future_time} \n",
    "\"\"\"    \n",
    "\n",
    "with open(\"C:\\\\Users\\\\lenovo\\\\Desktop\\\\大学作业\\\\数据科学与工程导论\\\\my.txt\", 'w', encoding='utf-8') as file:  \n",
    "    file.write(content) \n",
    "  \n",
    "print(f\"已写入文件。\") "
   ]
  },
  {
   "cell_type": "code",
   "execution_count": null,
   "id": "c0ff116a-d0fb-4378-9b67-11c01bf579a0",
   "metadata": {},
   "outputs": [],
   "source": []
  }
 ],
 "metadata": {
  "kernelspec": {
   "display_name": "Python 3 (ipykernel)",
   "language": "python",
   "name": "python3"
  },
  "language_info": {
   "codemirror_mode": {
    "name": "ipython",
    "version": 3
   },
   "file_extension": ".py",
   "mimetype": "text/x-python",
   "name": "python",
   "nbconvert_exporter": "python",
   "pygments_lexer": "ipython3",
   "version": "3.11.7"
  }
 },
 "nbformat": 4,
 "nbformat_minor": 5
}
