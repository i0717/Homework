{
 "cells": [
  {
   "cell_type": "markdown",
   "id": "d26316f3-715d-43c4-8c24-8ff2cb7f9f65",
   "metadata": {},
   "source": [
    "## Homework1"
   ]
  },
  {
   "cell_type": "markdown",
   "id": "6f7977cd-8da8-4bb1-95be-06b2de9d4c92",
   "metadata": {},
   "source": [
    "10235501405 李佳慜"
   ]
  },
  {
   "cell_type": "markdown",
   "id": "ac1a3089-fbf4-4259-a2a9-bcd586b2e459",
   "metadata": {},
   "source": [
    "1."
   ]
  },
  {
   "cell_type": "code",
   "execution_count": 8,
   "id": "fb0a63ca-8893-4105-8628-d015cdf2fded",
   "metadata": {},
   "outputs": [
    {
     "name": "stdout",
     "output_type": "stream",
     "text": [
      "★ ★ ★ ★ ★ ★ ★ ★\n",
      "★ 数据科学与工程导论 ★\n",
      "★ ★ ★ ★ ★ ★ ★ ★\n"
     ]
    }
   ],
   "source": [
    " print(chr(0x2605),chr(0x2605),chr(0x2605),chr(0x2605),chr(0x2605),chr(0x2605),chr(0x2605),chr(0x2605))\n",
    " print(chr(0x2605),\"数据科学与工程导论\",chr(0x2605))\n",
    " print(chr(0x2605),chr(0x2605),chr(0x2605),chr(0x2605),chr(0x2605),chr(0x2605),chr(0x2605),chr(0x2605))"
   ]
  },
  {
   "cell_type": "markdown",
   "id": "96971351-ffc9-4bad-b543-564a5abb265a",
   "metadata": {},
   "source": [
    "2."
   ]
  },
  {
   "cell_type": "code",
   "execution_count": 22,
   "id": "687a1433-848f-48a2-ab5e-b829d20722eb",
   "metadata": {},
   "outputs": [
    {
     "name": "stdin",
     "output_type": "stream",
     "text": [
      " 5\n",
      " 1\n",
      " 7\n"
     ]
    },
    {
     "name": "stdout",
     "output_type": "stream",
     "text": [
      "1.0 5.0 7.0\n"
     ]
    }
   ],
   "source": [
    " x=float(input())\n",
    " y=float(input())\n",
    " z=float(input())\n",
    " if x>=y:\n",
    "     x,y=y,x\n",
    " if y>=z:\n",
    "     y,z=z,y\n",
    " if x>=y:\n",
    "     x,y=y,x\n",
    " print(x,y,z)   "
   ]
  },
  {
   "cell_type": "markdown",
   "id": "ee7166e1-4c04-43de-a5d7-60ea1f7d9895",
   "metadata": {},
   "source": [
    "3."
   ]
  },
  {
   "cell_type": "code",
   "execution_count": 26,
   "id": "c4910d48-561d-4b6d-8e26-30596e9a7f16",
   "metadata": {},
   "outputs": [
    {
     "name": "stdin",
     "output_type": "stream",
     "text": [
      " 1\n",
      " 2\n",
      " 3\n",
      " 4\n"
     ]
    },
    {
     "name": "stdout",
     "output_type": "stream",
     "text": [
      "4.0 3.0 2.0 1.0\n"
     ]
    }
   ],
   "source": [
    "w=float(input())\n",
    "x=float(input())\n",
    "y=float(input())\n",
    "z=float(input())\n",
    "if w<=x:\n",
    "    w,x=x,w\n",
    "if x<=y:\n",
    "    x,y=y,x\n",
    "if y<=z:\n",
    "    y,z=z,y\n",
    "if w<=x:\n",
    "    w,x=x,w\n",
    "if x<=y:\n",
    "    x,y=y,x\n",
    "if w<=x:\n",
    "    w,x=x,w\n",
    "print(w,x,y,z) "
   ]
  },
  {
   "cell_type": "markdown",
   "id": "9e35ad73-9fd0-4792-b9de-4c896c736e12",
   "metadata": {},
   "source": [
    "4."
   ]
  },
  {
   "cell_type": "code",
   "execution_count": 31,
   "id": "a317aa5c-3195-443d-9d14-e719383273b0",
   "metadata": {},
   "outputs": [
    {
     "name": "stdout",
     "output_type": "stream",
     "text": [
      "1\n",
      "3\n",
      "5\n",
      "7\n",
      "9\n",
      "11\n",
      "13\n",
      "15\n",
      "17\n",
      "19\n",
      "21\n",
      "23\n",
      "25\n",
      "27\n",
      "29\n",
      "31\n",
      "33\n",
      "35\n",
      "37\n",
      "39\n",
      "41\n",
      "43\n",
      "45\n",
      "47\n",
      "49\n",
      "51\n",
      "53\n",
      "55\n",
      "57\n",
      "59\n",
      "61\n",
      "63\n",
      "65\n",
      "67\n",
      "69\n",
      "71\n",
      "73\n",
      "75\n",
      "77\n",
      "79\n",
      "81\n",
      "83\n",
      "85\n",
      "87\n",
      "89\n",
      "91\n",
      "93\n",
      "95\n",
      "97\n",
      "99\n"
     ]
    }
   ],
   "source": [
    "for i in range(1,100):\n",
    "    if i%2==1:\n",
    "        print(i)"
   ]
  },
  {
   "cell_type": "markdown",
   "id": "10e85a53-ac06-4b99-8e23-2dc7833d6a01",
   "metadata": {},
   "source": [
    "5."
   ]
  },
  {
   "cell_type": "code",
   "execution_count": 33,
   "id": "80939111-860c-4632-9769-dd45058e7af2",
   "metadata": {},
   "outputs": [
    {
     "name": "stdout",
     "output_type": "stream",
     "text": [
      "5050\n"
     ]
    }
   ],
   "source": [
    "sum=0\n",
    "for i in range(1,101):\n",
    "    sum+=i\n",
    "print(sum)"
   ]
  },
  {
   "cell_type": "markdown",
   "id": "0b8247fa-a8cf-4461-85d4-b5eed6c8213d",
   "metadata": {},
   "source": [
    "6."
   ]
  },
  {
   "cell_type": "code",
   "execution_count": 46,
   "id": "e3cfa204-1495-405a-a5ba-b0c797db45c4",
   "metadata": {},
   "outputs": [
    {
     "name": "stdout",
     "output_type": "stream",
     "text": [
      "[5, 4, 3, 2, 1]\n",
      "[5, 4, 3, 2, 1]\n"
     ]
    }
   ],
   "source": [
    "#for\n",
    "L=[1,2,3,4,5]\n",
    "M=[]  \n",
    "for i in range(len(L)-1,-1,-1):\n",
    "    M.append(L[i])  \n",
    "print(M)\n",
    "\n",
    "#while\n",
    "M=[]   \n",
    "length=len(L)  \n",
    "while length>0:\n",
    "    M.append(L[length-1])  \n",
    "    length-=1\n",
    "print(M)"
   ]
  },
  {
   "cell_type": "markdown",
   "id": "24c3d125-970a-42da-8d63-a6b002d88526",
   "metadata": {},
   "source": [
    "7."
   ]
  },
  {
   "cell_type": "code",
   "execution_count": 56,
   "id": "37e461ef-4723-4bae-a087-f0081a00725d",
   "metadata": {},
   "outputs": [
    {
     "name": "stdout",
     "output_type": "stream",
     "text": [
      "True\n"
     ]
    }
   ],
   "source": [
    "def lianxu(s):   \n",
    "    for i in range(1, len(s)):  \n",
    "        if s[i]==s[i-1]:  \n",
    "            return True  \n",
    "    return False  \n",
    "    \n",
    "s=\"abccccda\"    \n",
    "print(lianxu(s))"
   ]
  },
  {
   "cell_type": "markdown",
   "id": "77f2788a-6863-496f-bb91-70b887080793",
   "metadata": {},
   "source": [
    "8."
   ]
  },
  {
   "cell_type": "code",
   "execution_count": 65,
   "id": "cf57886e-8a73-4e2b-b8d3-0322acba553e",
   "metadata": {},
   "outputs": [
    {
     "name": "stdin",
     "output_type": "stream",
     "text": [
      " DataScience and Engineering\n"
     ]
    },
    {
     "name": "stdout",
     "output_type": "stream",
     "text": [
      "DataScienceandEngineering\n"
     ]
    }
   ],
   "source": [
    "s=input()\n",
    "s2=[]\n",
    "for i in range(0, len(s)):\n",
    "    if s[i]!=' ':\n",
    "        s2.append(s[i])\n",
    "print(''.join(s2))"
   ]
  },
  {
   "cell_type": "markdown",
   "id": "3731a404-7ff0-48ae-b101-0a64a0d1a843",
   "metadata": {},
   "source": [
    "9."
   ]
  },
  {
   "cell_type": "code",
   "execution_count": 73,
   "id": "a7a2dd03-02d6-462b-91c2-a731da3639c3",
   "metadata": {},
   "outputs": [
    {
     "name": "stdin",
     "output_type": "stream",
     "text": [
      " 64\n"
     ]
    },
    {
     "name": "stdout",
     "output_type": "stream",
     "text": [
      "4.0\n"
     ]
    }
   ],
   "source": [
    "def diedai(N,wucha=1e-10,num=1000):  \n",
    "    if N==0:  \n",
    "        return 0       \n",
    "    x=N/2.0\n",
    "    for i in range(num):  \n",
    "        x2=(2*x+N/(x**2))/3  \n",
    "        if abs(x2-x)<wucha:  \n",
    "            return x2 \n",
    "        x=x2  \n",
    " \n",
    "N=float(input()) \n",
    "ans=diedai(N)  \n",
    "print(ans)"
   ]
  },
  {
   "cell_type": "markdown",
   "id": "9c296ec3-b777-47c6-808e-4b7d781d6588",
   "metadata": {},
   "source": [
    "10."
   ]
  },
  {
   "cell_type": "code",
   "execution_count": 39,
   "id": "655107a9-417e-4daa-ac3d-1610584ca6e9",
   "metadata": {},
   "outputs": [
    {
     "name": "stdin",
     "output_type": "stream",
     "text": [
      " 5\n"
     ]
    },
    {
     "name": "stdout",
     "output_type": "stream",
     "text": [
      "120\n"
     ]
    }
   ],
   "source": [
    "n=int(input())\n",
    "ans=1\n",
    "for i in range(1,n+1):\n",
    "    ans*=i\n",
    "print(ans)"
   ]
  }
 ],
 "metadata": {
  "kernelspec": {
   "display_name": "Python 3 (ipykernel)",
   "language": "python",
   "name": "python3"
  },
  "language_info": {
   "codemirror_mode": {
    "name": "ipython",
    "version": 3
   },
   "file_extension": ".py",
   "mimetype": "text/x-python",
   "name": "python",
   "nbconvert_exporter": "python",
   "pygments_lexer": "ipython3",
   "version": "3.11.7"
  }
 },
 "nbformat": 4,
 "nbformat_minor": 5
}
